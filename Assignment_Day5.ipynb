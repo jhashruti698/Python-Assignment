{
  "nbformat": 4,
  "nbformat_minor": 0,
  "metadata": {
    "colab": {
      "name": "Assignment_Day5.ipynb",
      "provenance": [],
      "collapsed_sections": []
    },
    "kernelspec": {
      "name": "python3",
      "display_name": "Python 3"
    },
    "language_info": {
      "name": "python"
    }
  },
  "cells": [
    {
      "cell_type": "code",
      "execution_count": 24,
      "metadata": {
        "colab": {
          "base_uri": "https://localhost:8080/"
        },
        "id": "PHLTz4mpc3Gq",
        "outputId": "76cee00d-aa06-4e69-fafb-0bfa126cf77e"
      },
      "outputs": [
        {
          "output_type": "stream",
          "name": "stdout",
          "text": [
            "List elements are : [15, 30]\n"
          ]
        }
      ],
      "source": [
        "# Use filter function to filter out the elements from a list that are divisible by 3 & 5.\n",
        "\n",
        "def fun(n):\n",
        "  return n % 3 == 0 and n % 5 == 0\n",
        "\n",
        "li = [10, 15, 35, 27, 30]\n",
        "\n",
        "f = list(filter(fun, li))\n",
        "print(\"List elements are :\", f)"
      ]
    }
  ]
}