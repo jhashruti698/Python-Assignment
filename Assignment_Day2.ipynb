{
  "nbformat": 4,
  "nbformat_minor": 0,
  "metadata": {
    "colab": {
      "name": "Assignment_Day2.ipynb",
      "provenance": [],
      "collapsed_sections": []
    },
    "kernelspec": {
      "name": "python3",
      "display_name": "Python 3"
    },
    "language_info": {
      "name": "python"
    }
  },
  "cells": [
    {
      "cell_type": "code",
      "source": [
        "# Project Assignment - Lottery Program\n",
        "\n",
        "x = \"hello world\"\n",
        "\n",
        "ch = x.find(input(\"Type the Character : \").lower())\n",
        "\n",
        "if x[ch] == x[0] or x[ch] == x[3] or  x[ch] == x[4] or x[ch] == x[6] :\n",
        "\tprint(\"You Win!!\")\n",
        "else:\n",
        "\tprint(\"Better Luck Next Time\")"
      ],
      "metadata": {
        "colab": {
          "base_uri": "https://localhost:8080/"
        },
        "id": "RN2Hlq56DB44",
        "outputId": "debc1a43-2e40-4c17-dd61-30dbece61e27"
      },
      "execution_count": 24,
      "outputs": [
        {
          "output_type": "stream",
          "name": "stdout",
          "text": [
            "Type the Character : h\n",
            "You Win!!\n"
          ]
        }
      ]
    }
  ]
}