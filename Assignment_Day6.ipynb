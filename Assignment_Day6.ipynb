{
  "nbformat": 4,
  "nbformat_minor": 0,
  "metadata": {
    "colab": {
      "name": "Assignment_Day6.ipynb",
      "provenance": [],
      "collapsed_sections": []
    },
    "kernelspec": {
      "name": "python3",
      "display_name": "Python 3"
    },
    "language_info": {
      "name": "python"
    }
  },
  "cells": [
    {
      "cell_type": "code",
      "execution_count": 18,
      "metadata": {
        "colab": {
          "base_uri": "https://localhost:8080/"
        },
        "id": "2smOfBdr2RGC",
        "outputId": "4bc29edf-898a-4ab9-88b2-7302b9668363"
      },
      "outputs": [
        {
          "output_type": "stream",
          "name": "stdout",
          "text": [
            "Enter the 1st value: 10\n",
            "Enter the 2nd value: 50\n",
            "5\n"
          ]
        }
      ],
      "source": [
        "# Write a decorator, mod_div() that will add a feature to the above function which will make sure that numerator will be always greater than the denominator.\n",
        "\n",
        "# Decorators\n",
        "def div(x, y):\n",
        "  print(x // y)\n",
        "\n",
        "def mod_div(fun):\n",
        "  def inner(x, y):\n",
        "    if x < y :\n",
        "      x, y = y, x\n",
        "    fun(x, y)\n",
        "    \n",
        "  return inner\n",
        "\n",
        "x = int(input(\"Enter the 1st value: \"))\n",
        "y = int(input(\"Enter the 2nd value: \"))\n",
        "div = mod_div(div)  \n",
        "div(x, y)"
      ]
    }
  ]
}