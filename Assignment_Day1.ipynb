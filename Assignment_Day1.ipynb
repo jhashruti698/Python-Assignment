{
  "nbformat": 4,
  "nbformat_minor": 0,
  "metadata": {
    "colab": {
      "name": "Assignment_Day1.ipynb",
      "provenance": [],
      "collapsed_sections": []
    },
    "kernelspec": {
      "name": "python3",
      "display_name": "Python 3"
    },
    "language_info": {
      "name": "python"
    }
  },
  "cells": [
    {
      "cell_type": "code",
      "execution_count": 10,
      "metadata": {
        "colab": {
          "base_uri": "https://localhost:8080/"
        },
        "id": "vvBswvTse6fe",
        "outputId": "cc6fd252-c1e7-4f4b-e747-75eaf1c4ac9f"
      },
      "outputs": [
        {
          "output_type": "stream",
          "name": "stdout",
          "text": [
            "Enter the values : 34 56 78\n",
            "168\n"
          ]
        }
      ],
      "source": [
        "# Take multiple values as input and print sum of them.\n",
        "\n",
        "x = input(\"Enter the values : \")\n",
        "y = x.split()\n",
        "\n",
        "sum = 0\n",
        "for i in y:\n",
        "  sum = sum + int(i)\n",
        "print(sum)"
      ]
    }
  ]
}