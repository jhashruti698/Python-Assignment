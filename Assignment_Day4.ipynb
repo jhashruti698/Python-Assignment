{
  "nbformat": 4,
  "nbformat_minor": 0,
  "metadata": {
    "colab": {
      "name": "Assignment_Day4.ipynb",
      "provenance": [],
      "collapsed_sections": []
    },
    "kernelspec": {
      "name": "python3",
      "display_name": "Python 3"
    },
    "language_info": {
      "name": "python"
    }
  },
  "cells": [
    {
      "cell_type": "code",
      "execution_count": 9,
      "metadata": {
        "colab": {
          "base_uri": "https://localhost:8080/"
        },
        "id": "zJRnLlae5pHx",
        "outputId": "f6d2afc1-725a-4839-ba7a-82a2b72bfc5e"
      },
      "outputs": [
        {
          "output_type": "stream",
          "name": "stdout",
          "text": [
            "Enter any no. whose factorial is to be calculated : 6\n",
            "The factorial of 6 is 720\n"
          ]
        }
      ],
      "source": [
        "# Define a function which will take a number as argument and return its factorial. \n",
        "# Call the function to print factorial of any number(integer).\n",
        "\n",
        "def factorial(n):\n",
        "  return fact\n",
        "\n",
        "n = int(input(\"Enter any no. whose factorial is to be calculated : \"))\n",
        "\n",
        "fact = 1\n",
        "i = 1\n",
        "\n",
        "if n < 0:    \n",
        "  print(\" Factorial for negative no.'s is not possible\")   \n",
        "\n",
        "elif n == 0:\n",
        "  print(\"The factorial of 0 is \", end = \" \")    \n",
        "\n",
        "else:\n",
        "  while i<=n:\n",
        "    fact = fact * i\n",
        "    i += 1\n",
        "\n",
        "print(\"The factorial of\", n, \"is\", factorial(n))\n"
      ]
    }
  ]
}