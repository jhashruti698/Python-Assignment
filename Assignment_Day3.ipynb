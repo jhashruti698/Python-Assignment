{
  "nbformat": 4,
  "nbformat_minor": 0,
  "metadata": {
    "colab": {
      "name": "Assignment_Day3.ipynb",
      "provenance": [],
      "collapsed_sections": []
    },
    "kernelspec": {
      "name": "python3",
      "display_name": "Python 3"
    },
    "language_info": {
      "name": "python"
    }
  },
  "cells": [
    {
      "cell_type": "code",
      "source": [
        "# From a dict, how can we print the key whose value is maximum\n",
        "dict = {\"A\": 3, \"B\": 4, \"C\": 1, \"D\": 2, \"E\": 1}  # key : value pair\n",
        "\n",
        "print(dict)\n",
        "\n",
        "max_Key = max(dict, key = dict.get)\n",
        "print(\"Key having maximum value: \", max_Key)"
      ],
      "metadata": {
        "colab": {
          "base_uri": "https://localhost:8080/"
        },
        "id": "YRxSjx3thSAp",
        "outputId": "7bab6312-6589-42eb-a00a-f9ea39785be8"
      },
      "execution_count": 11,
      "outputs": [
        {
          "output_type": "stream",
          "name": "stdout",
          "text": [
            "{'A': 3, 'B': 4, 'C': 1, 'D': 2, 'E': 1}\n",
            "Key having maximum value:  B\n"
          ]
        }
      ]
    }
  ]
}